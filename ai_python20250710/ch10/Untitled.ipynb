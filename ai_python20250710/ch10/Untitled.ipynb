{
 "cells": [
  {
   "cell_type": "markdown",
   "id": "a70c8aa9-bb3d-4c66-91c0-6ca16a9c1857",
   "metadata": {},
   "source": [
    "## 作業\n",
    "\n",
    "設計錢包總金額為 1000 元，\n",
    "\n",
    "如果購買商品總金額超過 1000 \n",
    "\n",
    "會引發一個金額不足的例外 OverflowError "
   ]
  },
  {
   "cell_type": "code",
   "execution_count": 1,
   "id": "45fe9a57-8782-4ea7-86b8-038ab94e4abe",
   "metadata": {},
   "outputs": [
    {
     "name": "stdin",
     "output_type": "stream",
     "text": [
      "消費項目 手錶\n",
      "消費金額 500\n"
     ]
    },
    {
     "name": "stdout",
     "output_type": "stream",
     "text": [
      "目前消費金額:500\n"
     ]
    },
    {
     "name": "stdin",
     "output_type": "stream",
     "text": [
      "消費項目 全家餐\n",
      "消費金額 400\n"
     ]
    },
    {
     "name": "stdout",
     "output_type": "stream",
     "text": [
      "目前消費金額:900\n"
     ]
    },
    {
     "name": "stdin",
     "output_type": "stream",
     "text": [
      "消費項目 禮物\n",
      "消費金額 200\n"
     ]
    },
    {
     "name": "stdout",
     "output_type": "stream",
     "text": [
      "已經超支了\n",
      "{'手錶': 500, '全家餐': 400}\n"
     ]
    }
   ],
   "source": [
    "maxPrice = 1000\n",
    "sumPrice = 0\n",
    "totalDict = dict()\n",
    "try:\n",
    "    while True:\n",
    "        n = input(\"消費項目\")\n",
    "        p = int(input(\"消費金額\"))\n",
    "        if sumPrice + p > maxPrice:\n",
    "            raise OverflowError\n",
    "        sumPrice += p\n",
    "        totalDict[n] = p\n",
    "        print(f\"目前消費金額:{sumPrice}\")\n",
    "except:\n",
    "    print(\"已經超支了\")\n",
    "\n",
    "print(totalDict)\n",
    "    \n",
    "    "
   ]
  },
  {
   "cell_type": "code",
   "execution_count": 5,
   "id": "81bb35e8-c974-44da-ae62-6496c8bf35ba",
   "metadata": {},
   "outputs": [
    {
     "name": "stdout",
     "output_type": "stream",
     "text": [
      "Ken,217\n",
      "Vivin,323\n"
     ]
    }
   ],
   "source": [
    "class Student:\n",
    "    def __init__(self,name,*score):\n",
    "        self.name = name\n",
    "        self.score = score\n",
    "    def total(self):\n",
    "        result = 0\n",
    "        for s in self.score:\n",
    "            result += s\n",
    "        return result    \n",
    "    def printInfo(self):         \n",
    "        print(f\"{self.name},{self.total()}\")\n",
    "st1 = Student(\"Ken\",70,82,65)\n",
    "st2 = Student(\"Vivin\",82,77,99,65)\n",
    "st1.printInfo()\n",
    "st2.printInfo()"
   ]
  },
  {
   "cell_type": "code",
   "execution_count": 14,
   "id": "d64b3caa-7c68-4e74-9e11-d0c7724cb7ed",
   "metadata": {},
   "outputs": [
    {
     "name": "stdout",
     "output_type": "stream",
     "text": [
      "2 Google Ken,650000\n",
      "2 Google Vivin,28000\n"
     ]
    }
   ],
   "source": [
    "class Employee:\n",
    "    company = \"\"\n",
    "    count = 0\n",
    "    def __init__(self,name,salary=28000):\n",
    "        self.name = name\n",
    "        self.salary = salary\n",
    "        Employee.count += 1\n",
    "    def printInfo(self):    \n",
    "        print(f\"{Employee.count} {Employee.company} {self.name},{self.salary}\")\n",
    "Employee.company = \"Google\"        \n",
    "emp1 = Employee(\"Ken\",650000)\n",
    "emp2 = Employee(\"Vivin\")\n",
    "emp3 = Employee(\"Lucy\",85000)\n",
    "emp1.printInfo()\n",
    "emp2.printInfo()\n",
    "emp3.printInfo()"
   ]
  },
  {
   "cell_type": "markdown",
   "id": "14f3334c-2f0d-4d8a-8403-6e818b700bdd",
   "metadata": {},
   "source": [
    "## 私有化"
   ]
  },
  {
   "cell_type": "code",
   "execution_count": 36,
   "id": "63188439-2976-46ec-9c7c-f78230d25850",
   "metadata": {},
   "outputs": [
    {
     "name": "stdout",
     "output_type": "stream",
     "text": [
      "Bobo 5\n",
      "Gigi 3\n",
      "Bobo 25\n"
     ]
    }
   ],
   "source": [
    "class Animal:\n",
    "    def __init__(self,name,age):\n",
    "        self.name = name\n",
    "        #私有化\n",
    "        self.setAge(age)\n",
    "        # self.setAge(age)\n",
    "    def printInfo(self):     \n",
    "        print(f\"{self.name} {self.__age}\")\n",
    "    def setAge(self,age):\n",
    "        if age < 0 or age > 200:\n",
    "            raise OverflowError(f\"錯誤的年齡{age}\")\n",
    "        self.__age = age\n",
    "a1 = Animal(\"Bobo\",5)\n",
    "a2 = Animal(\"Gigi\",3)\n",
    "a1.printInfo()\n",
    "a2.printInfo()\n",
    "a1.setAge(25)\n",
    "a1.printInfo()"
   ]
  },
  {
   "cell_type": "code",
   "execution_count": 40,
   "id": "5e5eb662-58d6-48ee-bf65-dd42b5b2cce5",
   "metadata": {},
   "outputs": [
    {
     "name": "stdout",
     "output_type": "stream",
     "text": [
      "Bobo 5\n",
      "Gigi 3\n",
      "Bobo 29\n"
     ]
    }
   ],
   "source": [
    "class Animal:\n",
    "    def __init__(self,name,age):\n",
    "        self.name = name\n",
    "        #私有化\n",
    "        self.setAge(age)\n",
    "        # self.setAge(age)\n",
    "    def printInfo(self):     \n",
    "        print(f\"{self.name} {self.__age}\")\n",
    "    def setAge(self,age):\n",
    "        if age < 0 or age > 200:\n",
    "            raise OverflowError(f\"錯誤的年齡{age}\")\n",
    "        self.__age = age\n",
    "    #取值\n",
    "    @property\n",
    "    def age(self):    \n",
    "        return self.getAge()\n",
    "    #寫入\n",
    "    @age.setter\n",
    "    def age(self,age):\n",
    "        self.setAge(age)\n",
    "        \n",
    "a1 = Animal(\"Bobo\",5)\n",
    "a2 = Animal(\"Gigi\",3)\n",
    "a1.printInfo()\n",
    "a2.printInfo()\n",
    "a1.age = 29\n",
    "a1.printInfo()"
   ]
  },
  {
   "cell_type": "markdown",
   "id": "64356a70-474a-45d8-86bc-d0783e8afd09",
   "metadata": {},
   "source": [
    "## 繼承"
   ]
  },
  {
   "cell_type": "code",
   "execution_count": 2,
   "id": "140495f5-57a6-4ee3-a70b-bcdefb47613b",
   "metadata": {},
   "outputs": [
    {
     "name": "stdout",
     "output_type": "stream",
     "text": [
      "Bobo 5\n"
     ]
    }
   ],
   "source": [
    "class Animal:\n",
    "    def __init__(self,name,age):\n",
    "        self.name = name\n",
    "        self.age = age\n",
    "    def printInfo(self):     \n",
    "       print(self.name,self.age)\n",
    "a1 = Animal(\"Bobo\",5)       \n",
    "a1.printInfo()"
   ]
  },
  {
   "cell_type": "code",
   "execution_count": 3,
   "id": "7cdb307b-888a-4d39-85b0-0a211c2925f0",
   "metadata": {},
   "outputs": [
    {
     "name": "stdout",
     "output_type": "stream",
     "text": [
      "Kitty 5\n"
     ]
    }
   ],
   "source": [
    "class Cat(Animal):\n",
    "    pass\n",
    "cat1 = Cat(\"Kitty\",5)    \n",
    "cat1.printInfo()"
   ]
  },
  {
   "cell_type": "markdown",
   "id": "8480e360-7f72-4fea-89d3-adae1ef4b23a",
   "metadata": {},
   "source": [
    "## 多重繼承與初始化方法\n",
    "### 多重繼承\n",
    "+ 繼承多個父類別時用，隔開\n",
    "+ 注意成員搜尋的順序\n",
    "  + 從子類別開始\n",
    "  + 同一階層父類別由左至右搜尋\n",
    "  + 更上層祖父類別由左至右搜尋\n",
    "  + 直到達到頂層為止"
   ]
  },
  {
   "cell_type": "code",
   "execution_count": 4,
   "id": "fce80560-0672-413d-bce6-3705bc6b5f0a",
   "metadata": {},
   "outputs": [
    {
     "name": "stdout",
     "output_type": "stream",
     "text": [
      "[<class '__main__.C'>, <class '__main__.A'>, <class '__main__.B'>, <class '__main__.Z'>, <class '__main__.S'>, <class 'object'>]\n",
      "C.method4\n",
      "A.method3\n",
      "B.method2\n",
      "Z.method1\n"
     ]
    }
   ],
   "source": [
    "class S():\n",
    "    def method1(self):\n",
    "        print(\"S.method1\")\n",
    "    def method2(self):\n",
    "        print(\"S.method2\")\n",
    "class Z():\n",
    "    def method1(self):\n",
    "         print(\"Z.method1\")\n",
    "class A(S):\n",
    "    def method3(self):\n",
    "        print(\"A.method3\")\n",
    "class B(Z,S):\n",
    "    def method2(self):\n",
    "        print(\"B.method2\")  \n",
    "    def method3(self):\n",
    "        print(\"B.method3\")\n",
    "class C(A,B):\n",
    "    def method4(self):\n",
    "        print(\"C.method4\")\n",
    "c = C()\n",
    "print(C.mro())\n",
    "c.method4()\n",
    "c.method3()\n",
    "c.method2()\n",
    "c.method1()"
   ]
  },
  {
   "cell_type": "markdown",
   "id": "bc1aeaaf-280d-4049-b4c3-d3efcc0a1730",
   "metadata": {},
   "source": [
    "## __str__ 可輸出物件的內容"
   ]
  },
  {
   "cell_type": "code",
   "execution_count": 5,
   "id": "d64145db-4bcc-4575-8bc4-56649d240147",
   "metadata": {},
   "outputs": [
    {
     "name": "stdout",
     "output_type": "stream",
     "text": [
      "<__main__.Point object at 0x0000025B80943410>\n",
      "<__main__.Point object at 0x0000025B809408D0>\n"
     ]
    }
   ],
   "source": [
    "class Point:\n",
    "    def __init__(self,x = 0,y = 0):\n",
    "        self.x = x\n",
    "        self.y = y\n",
    "p1 = Point(2,3)        \n",
    "p2 = Point(-1,2)\n",
    "print(p1)\n",
    "print(p2)"
   ]
  },
  {
   "cell_type": "code",
   "execution_count": 7,
   "id": "88ebeb42-01d8-4c30-8336-115432683ca1",
   "metadata": {},
   "outputs": [
    {
     "name": "stdout",
     "output_type": "stream",
     "text": [
      "(2,3)\n",
      "(-1,2)\n",
      "(2,3)\n"
     ]
    }
   ],
   "source": [
    "class Point:\n",
    "    def __init__(self,x = 0,y = 0):\n",
    "        self.x = x\n",
    "        self.y = y\n",
    "    def __str__(self):    \n",
    "        return f\"({self.x},{self.y})\"\n",
    "p1 = Point(2,3)        \n",
    "p2 = Point(-1,2)\n",
    "print(p1)\n",
    "print(p2)\n",
    "msg = str(p1)\n",
    "print(msg)"
   ]
  },
  {
   "cell_type": "markdown",
   "id": "c2e0332c-607e-4ed2-bd3f-a0d6e31f910c",
   "metadata": {},
   "source": [
    "``` python\r\n",
    "__add__  +\r\n",
    "\r\n",
    "__iadd__  +=\r\n",
    "\r\n",
    "__sub__  -\r\n",
    "\r\n",
    "__isub__  -=\r\n",
    "\r\n",
    "__mul__  *\r\n",
    "\r\n",
    "__imul__  *=\r\n",
    "\r\n",
    "__truediv__   /\r\n",
    "\r\n",
    "__itruediv__   /=\r\n",
    "\r\n",
    "__floordiv__  //\r\n",
    "\r\n",
    "__ifloordiv__  //=\r\n",
    "\r\n",
    "__mod__  %\r\n",
    "\r\n",
    "__imod__  %=\r\n",
    "\r\n",
    "__pow__  **\r\n",
    "\r\n",
    "__ipow__  **=\r\n",
    "```"
   ]
  },
  {
   "cell_type": "code",
   "execution_count": 9,
   "id": "df2fc105-0b95-4d27-b09a-5bf1b9c812a7",
   "metadata": {},
   "outputs": [
    {
     "name": "stdout",
     "output_type": "stream",
     "text": [
      "(2,3)\n",
      "(-1,2)\n",
      "(1,5)\n"
     ]
    }
   ],
   "source": [
    "class Point:\n",
    "    def __init__(self,x = 0,y = 0):\n",
    "        self.x = x\n",
    "        self.y = y\n",
    "    def __str__(self):    \n",
    "        return f\"({self.x},{self.y})\"\n",
    "    def __add__(self,other):\n",
    "        x = self.x + other.x\n",
    "        y = self.y + other.y\n",
    "        return Point(x,y)\n",
    "p1 = Point(2,3)        \n",
    "p2 = Point(-1,2)\n",
    "print(p1)\n",
    "print(p2)\n",
    "print(p1 + p2)"
   ]
  },
  {
   "cell_type": "code",
   "execution_count": 15,
   "id": "912a32dc-b9f4-46f6-b4a9-6b4c7bce284e",
   "metadata": {},
   "outputs": [
    {
     "name": "stdout",
     "output_type": "stream",
     "text": [
      "13\n",
      "False\n",
      "(-1,2)\n",
      "(2,3)\n",
      "(1,8)\n",
      "(15,9)\n"
     ]
    }
   ],
   "source": [
    "class Point:\n",
    "    def __init__(self,x = 0,y = 0):\n",
    "        self.x = x\n",
    "        self.y = y\n",
    "    def __str__(self):    \n",
    "        return f\"({self.x},{self.y})\"\n",
    "    def __add__(self,other):\n",
    "        x = self.x + other.x\n",
    "        y = self.y + other.y\n",
    "        return Point(x,y)\n",
    "    def  __len__(self):\n",
    "        self_len = self.x ** 2 + self.y ** 2 \n",
    "        return self_len\n",
    "    def __lt__(self,other):#比小\n",
    "        p1_len = len(self)\n",
    "        p2_len = len(other)\n",
    "        return p1_len <  p2_len\n",
    "p1 = Point(2,3)        \n",
    "p2 = Point(-1,2)\n",
    "p3 = Point(15,9)\n",
    "p4 = Point(1,8)\n",
    "print(len(p1))\n",
    "print(p1 < p2)\n",
    "myList = [p1,p2,p3,p4]\n",
    "myList.sort()\n",
    "for p in myList:\n",
    "    print(p)"
   ]
  },
  {
   "cell_type": "markdown",
   "id": "f3bf8b2a-3ee5-4459-ae6f-bacc0af4dffd",
   "metadata": {},
   "source": [
    "## 切換目錄"
   ]
  },
  {
   "cell_type": "code",
   "execution_count": 17,
   "id": "72ecf026-078e-4563-b0bf-cd22816adecc",
   "metadata": {},
   "outputs": [
    {
     "name": "stdout",
     "output_type": "stream",
     "text": [
      "C:\\Users\\xvpow\\ai_python20250710\\ch10\n"
     ]
    }
   ],
   "source": [
    "import os\n",
    "print(os.getcwd())\n"
   ]
  },
  {
   "cell_type": "code",
   "execution_count": 19,
   "id": "0ac1501e-560f-4384-ac63-0e133cd41a47",
   "metadata": {},
   "outputs": [
    {
     "name": "stdout",
     "output_type": "stream",
     "text": [
      "<class 'list'>\n",
      ".ipynb_checkpoints\n",
      "Untitled.ipynb\n"
     ]
    }
   ],
   "source": [
    "import os\n",
    "files = os.listdir()\n",
    "print(type(files))\n",
    "for f in files:\n",
    "    print(f)"
   ]
  },
  {
   "cell_type": "markdown",
   "id": "82d285ea-fa65-4bf8-80d3-8b44a4478a55",
   "metadata": {},
   "source": [
    "## 檔案存取\r\n",
    "\r\n",
    "file object = open(file_name [, access_mode])\r\n",
    "\r\n",
    "UTF8 編碼資料還請加入另一個參數才可避免亂碼：encoding=‘utf-8'\r\n",
    "file object = open(file_name [, access_mode])\r\n",
    "\r\n",
    "參數說明\r\n",
    "\r\n",
    "file_name：file_name 參數是一個字串資料，代表包含要連結的文件名稱。\r\n",
    "\r\n",
    "access_mode：access_mode 確定文件必須打開的模式，包括讀取、寫入、附加等等。稍後會列完整列表。這是可選參數，默認文件訪問模式為讀取(r)。\r\n",
    "\r\n",
    "|模式\t|可做操作|若檔案不存在|是否覆蓋|\r\n",
    "|----|--------|-----------|-------|\r\n",
    "|r\t|只能讀|報錯\t|-|\r\n",
    "|r+\t|可讀可寫|報錯|是|\r\n",
    "|w\t|只能寫|建立|是|\r\n",
    "|w+ |可讀可寫|建立|是|\r\n",
    "|a　|只能寫|建立|否，追加寫|\r\n",
    "|a+\t|可讀可寫|建立|否，追加寫|"
   ]
  },
  {
   "cell_type": "code",
   "execution_count": 27,
   "id": "847d9f33-d6c5-4cef-b347-0b3c6f3604b5",
   "metadata": {},
   "outputs": [],
   "source": [
    "text = \"\"\"python與中文AAA\n",
    "1. 我們來試試看中文儲存能力。\n",
    "2. 許這個字會有編碼衝突風險。\n",
    "3. 犇這個字必須是utf8編碼才有。\n",
    "\"\"\"\n",
    "print(text,file=open(\"data.txt\",\"w\",encoding=\"utf-8\"))"
   ]
  },
  {
   "cell_type": "markdown",
   "id": "36148ddf-fef6-4330-b967-81326884962e",
   "metadata": {},
   "source": [
    "## 作業\n",
    "### 完成一個學生的類別 name score\n",
    "## 我希望有一個List 可存放學生的物件 並可根據score排序\n"
   ]
  },
  {
   "cell_type": "code",
   "execution_count": 23,
   "id": "c14d25a4-a203-434e-ad1f-240d160c97c7",
   "metadata": {},
   "outputs": [],
   "source": [
    "text = \"\"\"python與中文AAA\n",
    "1. 我們來試試看中文儲存能力。\n",
    "2. 許這個字會有編碼衝突風險。\n",
    "3. 犇這個字必須是utf8編碼才有。\n",
    "\"\"\"\n",
    "f = open(\"data2.txt\",\"w\",encoding=\"utf-8\")\n",
    "f.write(text)\n",
    "f.close()"
   ]
  },
  {
   "cell_type": "code",
   "execution_count": 25,
   "id": "fd475c49-090c-48da-a48e-aa0e3c3393c2",
   "metadata": {},
   "outputs": [],
   "source": [
    "text = \"\"\"明天高雄又放假啦!\n",
    "\"\"\"\n",
    "f = open(\"data2.txt\",\"a\",encoding=\"utf-8\")\n",
    "f.write(text)\n",
    "f.close()"
   ]
  },
  {
   "cell_type": "code",
   "execution_count": 26,
   "id": "470edf61-eacf-4743-baec-9ebd1e3be380",
   "metadata": {},
   "outputs": [
    {
     "name": "stdout",
     "output_type": "stream",
     "text": [
      "python與中文AAA\n",
      "1. 我們來試試看中文儲存能力。\n",
      "2. 許這個字會有編碼衝突風險。\n",
      "3. 犇這個字必須是utf8編碼才有。\n",
      "\n",
      "\n"
     ]
    }
   ],
   "source": [
    "f = open(\"data.txt\",\"r\",encoding=\"utf-8\")\n",
    "content = f.read()\n",
    "print(content)\n",
    "f.close()"
   ]
  },
  {
   "cell_type": "code",
   "execution_count": null,
   "id": "cff2422c-5d4e-4e73-af78-6723baf5fde8",
   "metadata": {},
   "outputs": [],
   "source": []
  }
 ],
 "metadata": {
  "kernelspec": {
   "display_name": "Python 3 (ipykernel)",
   "language": "python",
   "name": "python3"
  },
  "language_info": {
   "codemirror_mode": {
    "name": "ipython",
    "version": 3
   },
   "file_extension": ".py",
   "mimetype": "text/x-python",
   "name": "python",
   "nbconvert_exporter": "python",
   "pygments_lexer": "ipython3",
   "version": "3.11.9"
  }
 },
 "nbformat": 4,
 "nbformat_minor": 5
}
