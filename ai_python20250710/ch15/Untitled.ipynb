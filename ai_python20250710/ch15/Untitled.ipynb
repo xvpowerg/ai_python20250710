{
 "cells": [
  {
   "cell_type": "markdown",
   "id": "53faa040-145e-453a-bec6-eecfdcf79f86",
   "metadata": {},
   "source": [
    "## 刪除"
   ]
  },
  {
   "cell_type": "code",
   "execution_count": 29,
   "id": "2d935239-44ed-4e30-8ed5-bf7824985c9e",
   "metadata": {},
   "outputs": [
    {
     "name": "stdout",
     "output_type": "stream",
     "text": [
      "   one  two\n",
      "a  1.0    1\n",
      "b  2.0    2\n",
      "c  3.0    3\n",
      "d  NaN    4\n",
      "   one  two  three\n",
      "a  1.0    1     10\n",
      "b  2.0    2     11\n",
      "c  3.0    3     12\n",
      "d  NaN    4     13\n",
      "   two  three\n",
      "a    1     10\n",
      "b    2     11\n",
      "c    3     12\n",
      "d    4     13\n",
      "=================\n",
      "   one  two  three\n",
      "a  1.0    1     10\n",
      "b  2.0    2     11\n",
      "c  3.0    3     12\n",
      "d  NaN    4     13\n",
      "======================================================================\n",
      "   one  two  three\n",
      "a  1.0    1     10\n",
      "b  2.0    2     11\n",
      "c  3.0    3     12\n",
      "=================\n",
      "   one  two  three\n",
      "a  1.0    1     10\n",
      "b  2.0    2     11\n",
      "c  3.0    3     12\n",
      "d  NaN    4     13\n",
      "=================\n",
      "   two  three\n",
      "a    1     10\n",
      "b    2     11\n",
      "c    3     12\n",
      "d    4     13\n",
      "   two  three\n",
      "a    1     10\n",
      "b    2     11\n",
      "d    4     13\n"
     ]
    }
   ],
   "source": [
    "import pandas as pd\n",
    "d = {\"one\":pd.Series([1,2,3],index=[\"a\",\"b\",\"c\"]),\n",
    "    \"two\":pd.Series([1,2,3,4],index=[\"a\",\"b\",\"c\",\"d\"])}\n",
    "df1 = pd.DataFrame(d)\n",
    "print(df1)\n",
    "df1[\"three\"] = [10,11,12,13]\n",
    "\n",
    "print(df1)\n",
    "print(df1.drop(\"one\",axis=1))\n",
    "print(\"=================\")\n",
    "print(df1)\n",
    "print(\"=\"*70)\n",
    "newDf1 = df1.drop(\"d\")#預設是axis=0\n",
    "print(newDf1)\n",
    "print(\"=================\")\n",
    "print(df1)\n",
    "print(\"=================\")\n",
    "df1.drop(\"one\",axis = 1,inplace = True)\n",
    "print(df1)\n",
    "df1.drop(\"c\",inplace=True)\n",
    "print(df1)"
   ]
  },
  {
   "cell_type": "code",
   "execution_count": 13,
   "id": "404362aa-77f5-438b-ab65-800a41e5f910",
   "metadata": {},
   "outputs": [
    {
     "name": "stdout",
     "output_type": "stream",
     "text": [
      "C:\\Users\\xvpow\\ai_python20250710\\ch15\n"
     ]
    }
   ],
   "source": [
    "import os\n",
    "print(os.getcwd())"
   ]
  },
  {
   "cell_type": "markdown",
   "id": "652350f3-8116-40b4-bb7d-1dccf2732e31",
   "metadata": {},
   "source": [
    "## Pandas 讀取CSV"
   ]
  },
  {
   "cell_type": "code",
   "execution_count": 21,
   "id": "550bca00-51f3-4eb5-9e8f-e601640c9f46",
   "metadata": {},
   "outputs": [
    {
     "name": "stdout",
     "output_type": "stream",
     "text": [
      "   a   b   c   d message\n",
      "0  1   2   3   4   hello\n",
      "1  5   6   7   8   world\n",
      "2  9  10  11  12    good\n",
      "----------------------------------------------------------------------\n",
      "   0   1   2   3        4\n",
      "0  a   b   c   d  message\n",
      "1  1   2   3   4    hello\n",
      "2  5   6   7   8    world\n",
      "3  9  10  11  12     good\n",
      "----------------------------------------------------------------------\n",
      "   A   B   C   D        E\n",
      "0  a   b   c   d  message\n",
      "1  1   2   3   4    hello\n",
      "2  5   6   7   8    world\n",
      "3  9  10  11  12     good\n",
      "----------------------------------------------------------------------\n",
      "   A   B   C   D      E\n",
      "1  1   2   3   4  hello\n",
      "2  5   6   7   8  world\n",
      "3  9  10  11  12   good\n"
     ]
    }
   ],
   "source": [
    "import pandas as pd\n",
    "df1 = pd.read_csv(\"./ex1.csv\")\n",
    "print(df1)\n",
    "print(\"-\"*70)\n",
    "df2 = pd.read_csv(\"./ex1.csv\",header=None)#省略抬頭那一列\n",
    "print(df2)\n",
    "print(\"-\"*70)\n",
    "df3 = pd.read_csv(\"./ex1.csv\",names=[\"A\",\"B\",\"C\",\"D\",\"E\"])\n",
    "print(df3)\n",
    "print(\"-\"*70)\n",
    "df3.drop(0,inplace = True)\n",
    "print(df3)"
   ]
  },
  {
   "cell_type": "code",
   "execution_count": 33,
   "id": "12511966-b3c0-488a-9d2c-ba57ed7bcaac",
   "metadata": {},
   "outputs": [
    {
     "name": "stdout",
     "output_type": "stream",
     "text": [
      "{'Name': ['犇', '中文', '龘', 'Ricky'], 'Age': [28, 34, 29, 42]}\n",
      "    Name  Age\n",
      "0      犇   28\n",
      "1     中文   34\n",
      "2      龘   29\n",
      "3  Ricky   42\n"
     ]
    }
   ],
   "source": [
    "import pandas as pd\n",
    "data={\n",
    "    'Name':['犇','中文','龘','Ricky'],\n",
    "    'Age':[28,34,29,42]\n",
    "}\n",
    "df = pd.DataFrame(data)\n",
    "print(data)\n",
    "print(df)\n",
    "df.to_html(\"df1.html\",encoding = \"utf-8\")\n",
    "df.to_csv(\"df1a.csv\")\n",
    "df.to_csv(\"df1b.csv\",index=False)"
   ]
  },
  {
   "cell_type": "code",
   "execution_count": 36,
   "id": "2afbe626-3e84-4506-bf54-ea9cfcced96b",
   "metadata": {},
   "outputs": [
    {
     "name": "stdout",
     "output_type": "stream",
     "text": [
      "{'Name': ['犇', '中文', '龘', 'Ricky'], 'Age': [28, 34, 29, 42]}\n",
      "    Name  Age\n",
      "0      犇   28\n",
      "1     中文   34\n",
      "2      龘   29\n",
      "3  Ricky   42\n"
     ]
    }
   ],
   "source": [
    "import pandas as pd\n",
    "data={\n",
    "    'Name':['犇','中文','龘','Ricky'],\n",
    "    'Age':[28,34,29,42]\n",
    "}\n",
    "df = pd.DataFrame(data)\n",
    "print(data)\n",
    "print(df)\n",
    "df.to_csv(\"df1c.csv\",index=False,encoding=\"utf-8\")\n",
    "df.to_csv(\"df1d.csv\",index=False,encoding=\"utf-8-sig\")"
   ]
  },
  {
   "cell_type": "markdown",
   "id": "c382ad6e-ac63-4d88-907e-cadfb878c860",
   "metadata": {},
   "source": [
    "pip install xlrd"
   ]
  },
  {
   "cell_type": "code",
   "execution_count": 41,
   "id": "0d597ff6-00cb-4d08-9801-6495f1c091b5",
   "metadata": {},
   "outputs": [
    {
     "name": "stdout",
     "output_type": "stream",
     "text": [
      "   One  Two  Three\n",
      "a    0    1      2\n",
      "b    3    4      5\n",
      "c    6    7      8\n"
     ]
    }
   ],
   "source": [
    "import pandas as pd\n",
    "import  numpy as np\n",
    "data={\n",
    "    'Name':['犇','中文','龘','Ricky'],\n",
    "    'Age':[28,34,29,42]\n",
    "}\n",
    "df = pd.DataFrame(data)\n",
    "writer = pd.ExcelWriter(\"df.xlsx\")\n",
    "df.to_excel(writer,sheet_name=\"Sheet3\")\n",
    "df1 = pd.DataFrame(np.arange(9).reshape(3,3),index = [\"a\",\"b\",\"c\"],columns=[\"One\",\"Two\",\"Three\"])\n",
    "print(df1)\n",
    "df1.to_excel(writer,sheet_name=\"哈囉\")\n",
    "writer.close()"
   ]
  },
  {
   "cell_type": "code",
   "execution_count": 43,
   "id": "bb6d47d7-1f2d-41ec-9efc-f4277ea7b758",
   "metadata": {},
   "outputs": [
    {
     "name": "stdout",
     "output_type": "stream",
     "text": [
      "   Unnamed: 0   Name  Age\n",
      "0           0      犇   28\n",
      "1           1     中文   34\n",
      "2           2      龘   29\n",
      "3           3  Ricky   42\n",
      "  Unnamed: 0  One  Two  Three\n",
      "0          a    0    1      2\n",
      "1          b    3    4      5\n",
      "2          c    6    7      8\n"
     ]
    }
   ],
   "source": [
    "df = pd.read_excel(\"df.xlsx\")\n",
    "print(df)\n",
    "df = pd.read_excel(\"df.xlsx\",1)\n",
    "print(df)"
   ]
  },
  {
   "cell_type": "markdown",
   "id": "157fb793-959e-4f44-a42d-7cf0c1344e60",
   "metadata": {},
   "source": [
    "### 使用 loc(文字 m:n 會包含到n)\r\n",
    "+ \"location\" 的縮寫\r\n",
    "+ .loc[ ], 中括弧裡面是先 row 後 column，以逗號分開。\r\n",
    "+ row 與 column 要放入的是 row 標籤與 column 標籤。\r\n",
    "+ 可於 row 或 column 加入「：」 ，代表指定起訖範圍。"
   ]
  },
  {
   "cell_type": "code",
   "execution_count": 49,
   "id": "c997d776-674a-4ef3-a898-231517c89012",
   "metadata": {},
   "outputs": [
    {
     "name": "stdout",
     "output_type": "stream",
     "text": [
      "    s   t   u   v   w   x   y   z\n",
      "a   0   1   2   3   4   5   6   7\n",
      "b   8   9  10  11  12  13  14  15\n",
      "c  16  17  18  19  20  21  22  23\n",
      "d  24  25  26  27  28  29  30  31\n",
      "e  32  33  34  35  36  37  38  39\n",
      "f  40  41  42  43  44  45  46  47\n",
      "====================\n",
      "s     8\n",
      "t     9\n",
      "u    10\n",
      "v    11\n",
      "w    12\n",
      "x    13\n",
      "y    14\n",
      "z    15\n",
      "Name: b, dtype: int32\n",
      "====================\n",
      "28\n",
      "====================\n",
      "    w   x   y\n",
      "c  20  21  22\n",
      "d  28  29  30\n",
      "e  36  37  38\n",
      "====================\n",
      "     s    t    u    v    w    x    y    z\n",
      "a    0    1    2    3    4    5    6    7\n",
      "b    8    9   10   11   12   13   14   15\n",
      "c   16   17   18   19   20   21   22   23\n",
      "d   24   25   26   27   28   29   30   31\n",
      "e   32   33   34   35   36   37   38   39\n",
      "f   40   41   42   43   44   45   46   47\n",
      "g  100  101  102  103  104  105  106  107\n",
      "====================\n",
      "a      5\n",
      "b     13\n",
      "c     21\n",
      "d     29\n",
      "e     37\n",
      "f     45\n",
      "g    105\n",
      "Name: x, dtype: int64\n"
     ]
    }
   ],
   "source": [
    "import  pandas as pd\n",
    "import  numpy as np\n",
    "df = pd.DataFrame(np.arange(48).reshape(6,8),\n",
    "                 index=[\"a\",\"b\",\"c\",\"d\",\"e\",\"f\"],\n",
    "                 columns=[\"s\",\"t\",\"u\",\"v\",\"w\",\"x\",\"y\",\"z\"])\n",
    "print(df)\n",
    "print(\"=\"*20)\n",
    "print(df.loc[\"b\",:])\n",
    "print(\"=\"*20)\n",
    "print(df.loc[\"d\",\"w\"])\n",
    "print(\"=\"*20)\n",
    "print(df.loc[\"c\":\"e\",\"w\":\"y\"])\n",
    "print(\"=\"*20)\n",
    "df.loc[\"g\"] = [100,101,102,103,104,105,106,107]\n",
    "print(df)\n",
    "print(\"=\"*20)\n",
    "print(df.loc[:,\"x\"])"
   ]
  },
  {
   "cell_type": "markdown",
   "id": "a5e222a8-f94c-4282-bcf1-79d232f3c641",
   "metadata": {},
   "source": [
    "### 使用 iloc\n",
    "+ iloc[ ] 與 loc 一樣，中括弧裡面也是先 row 後 column，行列標籤用逗號分開。\n",
    "+ 與 loc 不同的之處是，.iloc 是根據索引來進行選擇。"
   ]
  },
  {
   "cell_type": "code",
   "execution_count": 60,
   "id": "2673dfee-ab3a-47f0-9b26-d5ffa5fe12c2",
   "metadata": {},
   "outputs": [
    {
     "name": "stdout",
     "output_type": "stream",
     "text": [
      "    0   1   2   3   4   5   6   7\n",
      "0   0   1   2   3   4   5   6   7\n",
      "1   8   9  10  11  12  13  14  15\n",
      "2  16  17  18  19  20  21  22  23\n",
      "3  24  25  26  27  28  29  30  31\n",
      "4  32  33  34  35  36  37  38  39\n",
      "5  40  41  42  43  44  45  46  47\n",
      "\n",
      "0     8\n",
      "1     9\n",
      "2    10\n",
      "3    11\n",
      "4    12\n",
      "5    13\n",
      "6    14\n",
      "7    15\n",
      "Name: 1, dtype: int32\n",
      "\n",
      "    4   5\n",
      "2  20  21\n",
      "3  28  29\n",
      "\n",
      "0     5\n",
      "1    13\n",
      "2    21\n",
      "3    29\n",
      "4    37\n",
      "5    45\n",
      "Name: 5, dtype: int32\n",
      "\n",
      "     0    1    2    3    4    5    6    7\n",
      "0    0    1    2    3    4    5    6    7\n",
      "1    8    9   10   11   12   13   14   15\n",
      "2   16   17   18   19   20   21   22   23\n",
      "3   24   25   26   27   28   29   30   31\n",
      "4   32   33   34   35   36   37   38   39\n",
      "5   40   41   42   43   44   45   46   47\n",
      "6  100  101  102  103  104  105  106  107\n"
     ]
    }
   ],
   "source": [
    "import  pandas as pd\n",
    "import  numpy as np\n",
    "df = pd.DataFrame(np.arange(48).reshape(6,8))\n",
    "print(df)\n",
    "print()\n",
    "print(df.iloc[1,:])\n",
    "print()\n",
    "print(df.iloc[2:4,4:6])\n",
    "print()\n",
    "print(df.iloc[:,-3])\n",
    "print()#27\n",
    "df.loc[6]  = [100,101,102,103,104,105,106,107]\n",
    "print(df)"
   ]
  },
  {
   "cell_type": "code",
   "execution_count": null,
   "id": "238f277c-38e5-4ada-989e-5e34327f283a",
   "metadata": {},
   "outputs": [],
   "source": []
  }
 ],
 "metadata": {
  "kernelspec": {
   "display_name": "Python 3 (ipykernel)",
   "language": "python",
   "name": "python3"
  },
  "language_info": {
   "codemirror_mode": {
    "name": "ipython",
    "version": 3
   },
   "file_extension": ".py",
   "mimetype": "text/x-python",
   "name": "python",
   "nbconvert_exporter": "python",
   "pygments_lexer": "ipython3",
   "version": "3.11.9"
  }
 },
 "nbformat": 4,
 "nbformat_minor": 5
}
