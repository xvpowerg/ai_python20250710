{
 "cells": [
  {
   "cell_type": "code",
   "execution_count": 1,
   "id": "f14533c4-248a-4bb1-8879-b6970fe077d4",
   "metadata": {},
   "outputs": [],
   "source": [
    "from bs4 import BeautifulSoup"
   ]
  },
  {
   "cell_type": "code",
   "execution_count": 10,
   "id": "23411196-14ff-46a8-9df3-5d9721b6143b",
   "metadata": {},
   "outputs": [
    {
     "name": "stdout",
     "output_type": "stream",
     "text": [
      "Google\n",
      "https://google.com\n",
      "https://google.com Google\n",
      "https://yahoo.com Yahoo\n"
     ]
    }
   ],
   "source": [
    "html='''<a id='a1' class=\"c1\" href=\"https://google.com\">Google</a>\n",
    "<a id='a2' class=\"c1\"  href=\"https://yahoo.com\">Yahoo</a>\n",
    "<a id='a3' class=\"c3\" href=\"https://facebook.com\">Facebook</a>\n",
    "'''\n",
    "soup = BeautifulSoup(html,\"html5lib\")\n",
    "print(soup.find(id=\"a1\").getText())\n",
    "print(soup.find(id=\"a1\").get(\"href\"))\n",
    "tmpList = soup.find_all(class_=\"c1\")\n",
    "for tag in tmpList:\n",
    "    print(tag.get(\"href\"),tag.getText())"
   ]
  },
  {
   "cell_type": "code",
   "execution_count": 15,
   "id": "32bd31f0-eed6-4efc-bdc4-05aee14a2da9",
   "metadata": {},
   "outputs": [
    {
     "name": "stdout",
     "output_type": "stream",
     "text": [
      "Google\n",
      "https://google.com\n",
      "https://google.com Google\n",
      "https://yahoo.com Yahoo\n"
     ]
    }
   ],
   "source": [
    "html='''<a id='a1' class=\"c1\" href=\"https://google.com\">Google</a>\n",
    "<a id='a2' class=\"c1\"  href=\"https://yahoo.com\">Yahoo</a>\n",
    "<a id='a3' class=\"c3\" href=\"https://facebook.com\">Facebook</a>\n",
    "'''\n",
    "soup = BeautifulSoup(html,\"html5lib\")\n",
    "print(soup.find(id=\"a1\").getText())\n",
    "print(soup.find(id=\"a1\").get(\"href\"))\n",
    "tmpList = soup.find_all(class_=\"c1\")\n",
    "for tag in tmpList:\n",
    "    print(tag.get(\"href\"),tag.getText())"
   ]
  },
  {
   "cell_type": "markdown",
   "id": "a6df3776-8e1d-4617-9793-ce3c4bd3a62d",
   "metadata": {},
   "source": [
    "## BeautifulSoup Base\n",
    "find() 只找第一個符合條件的\n",
    "\n",
    "https://www.crummy.com/software/BeautifulSoup/bs4/doc.zh/#find-all\n",
    "\n",
    "find_all() 找所有符合條件的\n",
    "\n",
    "select_one() 只找一個符合條件的可直接使用css語法\n",
    "\n",
    "select() 找所有符合條件的可使用css語法"
   ]
  },
  {
   "cell_type": "code",
   "execution_count": 16,
   "id": "9651a726-5db6-4d58-81ca-1a6ca84cc5a1",
   "metadata": {},
   "outputs": [
    {
     "name": "stdout",
     "output_type": "stream",
     "text": [
      "<a class=\"c1\" id=\"a1\">V1</a>\n",
      "[<a class=\"c1\" id=\"a1\">V1</a>, <a class=\"c1\" id=\"a2\">V2</a>]\n"
     ]
    }
   ],
   "source": [
    "from bs4 import BeautifulSoup\n",
    "html='''<a id='a1' class=\"c1\">V1</a>\n",
    "<a id='a2' class=\"c1\">V2</a>\n",
    "<a id='a3' class=\"c3\">V3</a>\n",
    "'''\n",
    "soup = BeautifulSoup(html,\"html5lib\")\n",
    "print(soup.find(id=\"a1\"))\n",
    "print(soup.find_all(class_ = \"c1\"))"
   ]
  },
  {
   "cell_type": "code",
   "execution_count": 30,
   "id": "ceda7183-0e89-4d30-b0bd-bcd22b1661ed",
   "metadata": {},
   "outputs": [
    {
     "name": "stdout",
     "output_type": "stream",
     "text": [
      "排名: 1\n",
      "片名: 哪吒之魔童鬧海\n",
      "全球票房: $2,123,757,964[3][4]\n",
      "\n",
      "排名: 2\n",
      "片名: 星際寶貝：史迪奇\n",
      "全球票房: $1,030,499,804\n",
      "\n",
      "排名: 3\n",
      "片名: MINECRAFT麥塊電影\n",
      "全球票房: $955,149,195\n",
      "\n",
      "排名: 4\n",
      "片名: 侏羅紀世界：重生\n",
      "全球票房: $828,832,885\n",
      "\n",
      "排名: 5\n",
      "片名: 馴龍高手\n",
      "全球票房: $626,363,775\n",
      "\n",
      "排名: 6\n",
      "片名: 不可能的任務：最終清算\n",
      "全球票房: $596,513,515\n",
      "\n",
      "排名: 7\n",
      "片名: 超人\n",
      "全球票房: $594,590,135\n",
      "\n",
      "排名: 8\n",
      "片名: F1電影\n",
      "全球票房: $590,548,183\n",
      "\n",
      "排名: 9\n",
      "片名: 唐探1900\n",
      "全球票房: $495,792,456[3]\n",
      "\n",
      "排名: 10\n",
      "片名: 驚奇4超人：第一步\n",
      "全球票房: $469,480,403\n",
      "\n"
     ]
    }
   ],
   "source": [
    "import requests\n",
    "from bs4 import BeautifulSoup\n",
    "url = \"https://zh.wikipedia.org/zh-tw/2025年电影\"\n",
    "resp = requests.get(url)\n",
    "resp.encoding = \"utf-8\"\n",
    "soup = BeautifulSoup(resp.text,\"html5lib\")\n",
    "movieTable = soup.find(\"table\",class_=\"wikitable sortable\")\n",
    "tbody = movieTable.find(\"tbody\")\n",
    "trList = tbody.find_all(\"tr\")\n",
    "for inx in range(1,len(trList)):\n",
    "    print(\"排名:\",trList[inx].find(\"th\").text,end=\"\")\n",
    "    print(\"片名:\",trList[inx].select_one(\"a\").text)\n",
    "    print(\"全球票房:\",trList[inx].find_all(\"td\")[2].text)"
   ]
  },
  {
   "cell_type": "markdown",
   "id": "5cca6598-b2d1-40ea-aa76-18164b56b98f",
   "metadata": {},
   "source": [
    "## Numpy簡介"
   ]
  },
  {
   "cell_type": "code",
   "execution_count": 32,
   "id": "4c06df95-3203-47a1-8f2f-bba3ceeb7ed3",
   "metadata": {},
   "outputs": [
    {
     "name": "stdout",
     "output_type": "stream",
     "text": [
      "[1, 3, 5, 7, 9, 3, 5, 6, 7, 9]\n",
      "[ 4  8 11 14 18]\n"
     ]
    }
   ],
   "source": [
    "import numpy as np\n",
    "c1 = [1,3,5,7,9]\n",
    "d1 = [3,5,6,7,9]\n",
    "f1 = c1 + d1\n",
    "print(f1)\n",
    "c2 = np.array(c1)\n",
    "d2 = np.array(d1)\n",
    "f2 = c2 + d2\n",
    "print(f2)"
   ]
  },
  {
   "cell_type": "markdown",
   "id": "5d388638-5c1a-486f-b1b7-3657383532c5",
   "metadata": {},
   "source": [
    "+ ndarray.ndim\r\n",
    "   + 維度的數量。\r\n",
    "+ ndarray.shape\r\n",
    "   + 顯示出陣列在每個維度上的整數值。\r\n",
    "+ ndarray.size\r\n",
    "   + 陣列內元素的總數。\r\n",
    "+ ndarray.dtype\r\n",
    "   + 用來描述陣列中元素類型的對象。"
   ]
  },
  {
   "cell_type": "code",
   "execution_count": 42,
   "id": "df90d6ff-136f-470f-8c5b-44a06c85ae56",
   "metadata": {},
   "outputs": [
    {
     "name": "stdout",
     "output_type": "stream",
     "text": [
      "2\n",
      "(2, 3)\n",
      "6\n",
      "int8\n"
     ]
    }
   ],
   "source": [
    "import numpy as np\n",
    "\n",
    "i = [[1,2,3],\n",
    "     [1,2,3]]\n",
    "a = np.array(i,dtype=np.int8)\n",
    "print(a.ndim)\n",
    "print(a.shape)\n",
    "print(a.size)\n",
    "print(a.dtype)"
   ]
  },
  {
   "cell_type": "code",
   "execution_count": 52,
   "id": "f9223d7c-ab62-4c71-a41c-dab239a833fb",
   "metadata": {},
   "outputs": [
    {
     "name": "stdout",
     "output_type": "stream",
     "text": [
      "[6 7 8 9]\n",
      "[0 1 2 3]\n",
      "[6 6 6 6]\n",
      "[0 1 4 9]\n",
      "[False  True  True False  True]\n",
      "[-1  3  0]\n",
      "[5 1 1 9 1]\n"
     ]
    }
   ],
   "source": [
    "import numpy as np\n",
    "a = np.array([6,7,8,9])\n",
    "b = np.arange(4)\n",
    "print(a)\n",
    "print(b)\n",
    "c = a - b\n",
    "print(c)\n",
    "d = b ** 2\n",
    "print(d)\n",
    "f = np.array([5,-1,3,9,0])\n",
    "print(f <= 3)\n",
    "print(f[f <= 3])\n",
    "f[f <= 3] = 1 # 小於等於3的數值都改成1\n",
    "print(f)"
   ]
  },
  {
   "cell_type": "code",
   "execution_count": 58,
   "id": "582279cb-5afe-4f1f-9f52-ca5d983ad042",
   "metadata": {},
   "outputs": [
    {
     "name": "stdout",
     "output_type": "stream",
     "text": [
      "[[1. 1. 1. 1.]\n",
      " [1. 1. 1. 1.]]\n",
      "[[6 6 6 6]\n",
      " [6 6 6 6]]\n"
     ]
    }
   ],
   "source": [
    "import numpy as np\n",
    "x = np.ones((2,4))\n",
    "print(x)\n",
    "x = np.full((2,4),6)\n",
    "print(x)"
   ]
  },
  {
   "cell_type": "code",
   "execution_count": 60,
   "id": "efb49d69-c7de-4dcc-9358-c378547d9ad6",
   "metadata": {},
   "outputs": [
    {
     "name": "stdout",
     "output_type": "stream",
     "text": [
      "[[1. 0. 0.]\n",
      " [0. 1. 0.]\n",
      " [0. 0. 1.]]\n",
      "[[1 0 0 0]\n",
      " [0 2 0 0]\n",
      " [0 0 3 0]\n",
      " [0 0 0 4]]\n"
     ]
    }
   ],
   "source": [
    "x = np.eye(3)\n",
    "print(x)\n",
    "x = np.diag([1,2,3,4])\n",
    "print(x)"
   ]
  },
  {
   "cell_type": "code",
   "execution_count": 66,
   "id": "38c53f55-d1ed-431a-8d77-c9cb46217c56",
   "metadata": {},
   "outputs": [
    {
     "name": "stdout",
     "output_type": "stream",
     "text": [
      "[ 1.   2.8  4.6  6.4  8.2 10. ]\n",
      "[[ 1.   2.8  4.6]\n",
      " [ 6.4  8.2 10. ]]\n",
      "[[0 1 2 3]\n",
      " [4 5 6 7]]\n"
     ]
    }
   ],
   "source": [
    "import numpy as np\n",
    "x = np.linspace(1,10,6)\n",
    "print(x)\n",
    "x = np.linspace(1,10,6).reshape((2,3))#(10-1)/(6-1)\n",
    "print(x)\n",
    "x = np.arange(8).reshape((2,4))\n",
    "print(x)"
   ]
  },
  {
   "cell_type": "code",
   "execution_count": 68,
   "id": "8c066b91-fff7-4e9f-af4b-62734d1f7518",
   "metadata": {},
   "outputs": [
    {
     "name": "stdout",
     "output_type": "stream",
     "text": [
      "[25.  25.5 26.  26.5 27.  27.5 28.  28.5 29.  29.5]\n"
     ]
    }
   ],
   "source": [
    "import numpy as np\n",
    "r1 = np.arange(25,30,0.5)\n",
    "print(r1)"
   ]
  },
  {
   "cell_type": "code",
   "execution_count": 69,
   "id": "602bd9d7-7838-4cc6-a63a-346604f9f88b",
   "metadata": {},
   "outputs": [
    {
     "name": "stdout",
     "output_type": "stream",
     "text": [
      "[3.   3.25 3.5  3.75 4.   4.25 4.5  4.75 5.  ]\n"
     ]
    }
   ],
   "source": [
    "lin = np.linspace(3,5,9)# 5-3/ 9-1\n",
    "print(lin)"
   ]
  },
  {
   "cell_type": "markdown",
   "id": "788d42f4-5a06-49a2-a144-0836ca3f5228",
   "metadata": {},
   "source": [
    "## 陣列指定位置取值\r\n",
    "+ 間隔選取 [::c]\r\n",
    "  + 以 1 維陣列來說明 x[a:b:c]\r\n",
    "  + a：選取資料的起始索引\r\n",
    "  + b：選取資料的結束索引 +1\r\n",
    "  + c：選取資料間隔，以索引值可以被此值整除的元素，不指定表示 1\r\n",
    "+ 倒序 [::-1]\r\n",
    "  + 只是單純的把順序反過來"
   ]
  },
  {
   "cell_type": "markdown",
   "id": "63675bc0-e2e4-40ba-b50e-52a10dc803fa",
   "metadata": {},
   "source": [
    "## 陣列指定位置-給予一個整數\r\n",
    "+ 關於指定位置  [row,column]\r\n",
    "+ 假設給予一個整數為 N\r\n",
    " + 如果是給固定的 N，那就代表 row 或 column 等於 N。\r\n",
    " + 如果是 N：，那就代表 row 或 column 大於等於 N 的區域。\r\n",
    " + 如果是：N，那就代表 row 或 column 小於 N 的區域。 \r\n",
    " + 如果是：，那就代表 row 或 column 是任意欄位。"
   ]
  },
  {
   "cell_type": "code",
   "execution_count": 77,
   "id": "dbb01e96-0f83-4ec5-a7d2-2534aac342a6",
   "metadata": {},
   "outputs": [
    {
     "name": "stdout",
     "output_type": "stream",
     "text": [
      "[[1 2 3]\n",
      " [4 5 6]]\n",
      "(2, 3)\n",
      "[1 2 3]\n",
      "3\n"
     ]
    }
   ],
   "source": [
    "import numpy as np\n",
    "a = np.arange(1,7).reshape((2,3))\n",
    "print(a)\n",
    "print(a.shape)\n",
    "print(a[0])\n",
    "print(a[0][2])"
   ]
  },
  {
   "cell_type": "code",
   "execution_count": 82,
   "id": "8b8afdae-134d-4e0d-be5c-f804bfe083a2",
   "metadata": {},
   "outputs": [
    {
     "name": "stdout",
     "output_type": "stream",
     "text": [
      "[[1 2 3]\n",
      " [4 5 6]\n",
      " [7 8 9]]\n",
      "6\n",
      "[7 8]\n",
      "[2 5 8]\n"
     ]
    }
   ],
   "source": [
    "import numpy as np\n",
    "a = np.arange(1,10).reshape((3,3))\n",
    "print(a)\n",
    "print(a[1,2])\n",
    "print(a[2,:2])\n",
    "print(a[:,1])"
   ]
  },
  {
   "cell_type": "code",
   "execution_count": 83,
   "id": "29a2c073-60e2-4c0b-8090-9d9259655daa",
   "metadata": {},
   "outputs": [
    {
     "name": "stdout",
     "output_type": "stream",
     "text": [
      "[[ 0  1  2  3  4  5]\n",
      " [ 6  7  8  9 10 11]\n",
      " [12 13 14 15 16 17]\n",
      " [18 19 20 21 22 23]\n",
      " [24 25 26 27 28 29]\n",
      " [30 31 32 33 34 35]]\n"
     ]
    }
   ],
   "source": [
    "import numpy as np\n",
    "a=np.arange(0,36).reshape((6,6))\n",
    "print(a)\n",
    "#作業\n",
    "# [3 4]\n",
    "\"\"\"\n",
    "[[28 29]\n",
    " [34 35]]\n",
    "\"\"\""
   ]
  },
  {
   "cell_type": "code",
   "execution_count": null,
   "id": "8b0d2645-19f9-423a-be29-00049ea1e207",
   "metadata": {},
   "outputs": [],
   "source": []
  }
 ],
 "metadata": {
  "kernelspec": {
   "display_name": "Python 3 (ipykernel)",
   "language": "python",
   "name": "python3"
  },
  "language_info": {
   "codemirror_mode": {
    "name": "ipython",
    "version": 3
   },
   "file_extension": ".py",
   "mimetype": "text/x-python",
   "name": "python",
   "nbconvert_exporter": "python",
   "pygments_lexer": "ipython3",
   "version": "3.11.9"
  }
 },
 "nbformat": 4,
 "nbformat_minor": 5
}
