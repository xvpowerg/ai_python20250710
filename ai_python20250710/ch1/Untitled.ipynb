{
 "cells": [
  {
   "cell_type": "markdown",
   "id": "24726036-4783-43d4-a369-f364d142e30a",
   "metadata": {},
   "source": [
    "# 練習輸出\n",
    "## print練習\n",
    "\n",
    "print輸出文字與數字"
   ]
  },
  {
   "cell_type": "code",
   "execution_count": 12,
   "id": "ad950cff-3f89-4d4c-962b-4fbade2a3d8d",
   "metadata": {},
   "outputs": [
    {
     "name": "stdout",
     "output_type": "stream",
     "text": [
      "567\n"
     ]
    }
   ],
   "source": [
    "print(567)"
   ]
  },
  {
   "cell_type": "code",
   "execution_count": 16,
   "id": "1d0299a7-82be-4343-87a5-3f955b1e8068",
   "metadata": {},
   "outputs": [
    {
     "name": "stdout",
     "output_type": "stream",
     "text": [
      "Ken\n",
      "晚安!\n"
     ]
    }
   ],
   "source": [
    "print(\"Ken\")\n",
    "print(\"晚安!\")"
   ]
  },
  {
   "cell_type": "markdown",
   "id": "285bd6eb-dbf1-4199-b6e0-a5d990588f48",
   "metadata": {},
   "source": [
    "## 變數"
   ]
  },
  {
   "cell_type": "code",
   "execution_count": 23,
   "id": "8276d021-84fa-4bb1-9623-f307d3d77358",
   "metadata": {},
   "outputs": [
    {
     "name": "stdout",
     "output_type": "stream",
     "text": [
      "10\n"
     ]
    }
   ],
   "source": [
    "a = 10 #整數 int\n",
    "print(a)"
   ]
  },
  {
   "cell_type": "code",
   "execution_count": 27,
   "id": "45c7c2be-e84e-47e1-b271-3bdacd0a6c91",
   "metadata": {},
   "outputs": [
    {
     "name": "stdout",
     "output_type": "stream",
     "text": [
      "3.1415\n"
     ]
    }
   ],
   "source": [
    "pi = 3.1415 #浮點數 float\n",
    "print(pi)"
   ]
  },
  {
   "cell_type": "code",
   "execution_count": 28,
   "id": "3ba5826d-37db-4877-a668-b3fd49d01a35",
   "metadata": {},
   "outputs": [
    {
     "name": "stdout",
     "output_type": "stream",
     "text": [
      "<class 'int'>\n"
     ]
    }
   ],
   "source": [
    "print(type(a)) "
   ]
  },
  {
   "cell_type": "code",
   "execution_count": 29,
   "id": "75567985-1f7a-4ec9-9bba-c1d0238461ce",
   "metadata": {},
   "outputs": [
    {
     "name": "stdout",
     "output_type": "stream",
     "text": [
      "<class 'float'>\n"
     ]
    }
   ],
   "source": [
    "print(type(pi))"
   ]
  },
  {
   "cell_type": "code",
   "execution_count": 38,
   "id": "7b4dc0ce-6b46-4b61-8da9-b59a09761f4e",
   "metadata": {},
   "outputs": [
    {
     "name": "stdout",
     "output_type": "stream",
     "text": [
      "Hello\n",
      "<class 'str'>\n"
     ]
    }
   ],
   "source": [
    "msg = \"Hello\"#字串 str\n",
    "print(msg)\n",
    "print(type(msg))"
   ]
  },
  {
   "cell_type": "code",
   "execution_count": 1,
   "id": "810ec0f5-03e0-4757-a8ff-3812648d97cb",
   "metadata": {},
   "outputs": [
    {
     "name": "stdout",
     "output_type": "stream",
     "text": [
      "True\n",
      "<class 'bool'>\n"
     ]
    }
   ],
   "source": [
    "isOpen = True #布林 有True False  類型 bool\n",
    "print(isOpen)\n",
    "print(type(isOpen))"
   ]
  },
  {
   "cell_type": "code",
   "execution_count": null,
   "id": "e6ffb8ef-c647-4839-b814-846db0b51de4",
   "metadata": {},
   "outputs": [],
   "source": [
    "#小作業\n",
    "##輸出姓名"
   ]
  }
 ],
 "metadata": {
  "kernelspec": {
   "display_name": "Python 3 (ipykernel)",
   "language": "python",
   "name": "python3"
  },
  "language_info": {
   "codemirror_mode": {
    "name": "ipython",
    "version": 3
   },
   "file_extension": ".py",
   "mimetype": "text/x-python",
   "name": "python",
   "nbconvert_exporter": "python",
   "pygments_lexer": "ipython3",
   "version": "3.11.9"
  }
 },
 "nbformat": 4,
 "nbformat_minor": 5
}
