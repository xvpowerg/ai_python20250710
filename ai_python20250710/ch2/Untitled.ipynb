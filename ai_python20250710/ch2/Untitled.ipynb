{
 "cells": [
  {
   "cell_type": "code",
   "execution_count": 1,
   "id": "1bef9ecf-a030-4968-b61f-44e95105df71",
   "metadata": {},
   "outputs": [
    {
     "name": "stdout",
     "output_type": "stream",
     "text": [
      "10 2.56 test\n"
     ]
    }
   ],
   "source": [
    "a = 10\n",
    "b = 2.56\n",
    "c = \"test\"\n",
    "print(a,b,c)"
   ]
  },
  {
   "cell_type": "code",
   "execution_count": 2,
   "id": "1fa2a0aa-b25e-4048-a0c4-c64704ac783c",
   "metadata": {},
   "outputs": [
    {
     "name": "stdout",
     "output_type": "stream",
     "text": [
      "20 4.5 Ken\n"
     ]
    }
   ],
   "source": [
    "x,y,z = 20,4.5,\"Ken\"\n",
    "print(x,y,z)"
   ]
  },
  {
   "cell_type": "code",
   "execution_count": 5,
   "id": "e913eafb-3754-4762-ab36-a8c920815809",
   "metadata": {},
   "outputs": [
    {
     "name": "stdout",
     "output_type": "stream",
     "text": [
      "20 18\n",
      "18 20\n"
     ]
    }
   ],
   "source": [
    "#資料交換\n",
    "a1 = 20\n",
    "a2 = 18\n",
    "print(a1,a2)\n",
    "#交換\n",
    "tmp = a1\n",
    "a1 = a2\n",
    "a2 = tmp\n",
    "print(a1,a2)"
   ]
  },
  {
   "cell_type": "code",
   "execution_count": 2,
   "id": "3c24e60c-e4d2-4f5f-b570-13436bbef72c",
   "metadata": {},
   "outputs": [
    {
     "name": "stdout",
     "output_type": "stream",
     "text": [
      "20 18\n",
      "18 20\n"
     ]
    }
   ],
   "source": [
    "#資料交換\n",
    "a1 = 20\n",
    "a2 = 18\n",
    "print(a1,a2)\n",
    "a1,a2 = a2,a1\n",
    "print(a1,a2)"
   ]
  },
  {
   "cell_type": "markdown",
   "id": "1c45583b-f365-46cd-9135-e2571d433f4f",
   "metadata": {},
   "source": [
    "## 可利用str()轉字串"
   ]
  },
  {
   "cell_type": "code",
   "execution_count": 5,
   "id": "9a198a05-5474-49d3-b1c3-80bc996ffe4c",
   "metadata": {},
   "outputs": [
    {
     "name": "stdout",
     "output_type": "stream",
     "text": [
      "Ken經理\n"
     ]
    }
   ],
   "source": [
    "name = \"Ken\"\n",
    "title = \"經理\"\n",
    "msg = name + title\n",
    "print(msg)"
   ]
  },
  {
   "cell_type": "code",
   "execution_count": 1,
   "id": "6243a488-b003-4ec6-8481-09b9a9e3011d",
   "metadata": {},
   "outputs": [
    {
     "name": "stdout",
     "output_type": "stream",
     "text": [
      "你的年齡是28\n"
     ]
    }
   ],
   "source": [
    "year = 28\n",
    "st1 = \"你的\"\n",
    "st2 = \"年齡是\"\n",
    "msg = st1 + st2 + str(year)\n",
    "print(msg)"
   ]
  },
  {
   "cell_type": "code",
   "execution_count": 1,
   "id": "20fac03f-3d1b-4cc1-a96b-4f36a348a260",
   "metadata": {},
   "outputs": [
    {
     "name": "stdout",
     "output_type": "stream",
     "text": [
      "15\n",
      "-5\n",
      "50\n",
      "0.5\n",
      "2\n",
      "1\n"
     ]
    }
   ],
   "source": [
    "a = 5\n",
    "b = 10\n",
    "print(a + b)\n",
    "print(a - b)\n",
    "print(a * b)\n",
    "print(a / b)\n",
    "a = 9\n",
    "b = 4\n",
    "print(a // b)#求商 無條件捨去\n",
    "print(a % b)#求餘數"
   ]
  },
  {
   "cell_type": "code",
   "execution_count": 3,
   "id": "a7b326ba-33a2-4dde-8afb-592625433d1d",
   "metadata": {},
   "outputs": [
    {
     "name": "stdout",
     "output_type": "stream",
     "text": [
      "40\n"
     ]
    }
   ],
   "source": [
    "st1 = \"25\"\n",
    "st2 = \"15\"\n",
    "ans = int(st1)+int(st2)\n",
    "print(ans)"
   ]
  },
  {
   "cell_type": "markdown",
   "id": "0e4450d5-7e0b-4d9b-ba81-255a5ed3c6ab",
   "metadata": {},
   "source": [
    "## 輸入資料\n",
    "### input(\"可放提示詞\")\n",
    "\n",
    "輸入的資料一律都是字串類型"
   ]
  },
  {
   "cell_type": "code",
   "execution_count": 8,
   "id": "7d5ce26f-de24-42b1-9824-6979f6b414a2",
   "metadata": {},
   "outputs": [
    {
     "name": "stdin",
     "output_type": "stream",
     "text": [
      "請輸入一個數字 12\n"
     ]
    },
    {
     "name": "stdout",
     "output_type": "stream",
     "text": [
      "12 <class 'str'>\n"
     ]
    }
   ],
   "source": [
    "a = input(\"請輸入一個數字\")\n",
    "print(a,type(a))#type 輸出變數的類型"
   ]
  },
  {
   "cell_type": "code",
   "execution_count": 6,
   "id": "1f99be72-abbb-42e3-aee3-a50c596fd71c",
   "metadata": {},
   "outputs": [
    {
     "name": "stdout",
     "output_type": "stream",
     "text": [
      "Test!\n"
     ]
    }
   ],
   "source": [
    "print(\"Test!\")"
   ]
  },
  {
   "cell_type": "code",
   "execution_count": 11,
   "id": "827c9af5-7bc6-4608-ba1c-8656015aff65",
   "metadata": {},
   "outputs": [
    {
     "name": "stdin",
     "output_type": "stream",
     "text": [
      "輸入整數 18\n"
     ]
    },
    {
     "name": "stdout",
     "output_type": "stream",
     "text": [
      "36\n"
     ]
    }
   ],
   "source": [
    "x = input(\"輸入整數\")\n",
    "x = int(x)\n",
    "print(x *２)"
   ]
  },
  {
   "cell_type": "code",
   "execution_count": 14,
   "id": "c7aa8227-467c-448a-84c1-713800101a5d",
   "metadata": {},
   "outputs": [
    {
     "name": "stdin",
     "output_type": "stream",
     "text": [
      "輸入第一個整數 3\n",
      "輸入第二個整數 2\n"
     ]
    },
    {
     "name": "stdout",
     "output_type": "stream",
     "text": [
      "6\n",
      "8\n",
      "HelloHelloHello\n"
     ]
    }
   ],
   "source": [
    "n =int(input(\"輸入第一個整數\")) \n",
    "x =int(input(\"輸入第二個整數\")) \n",
    "print(x * n)\n",
    "print(x ** n)#x的n次方\n",
    "print(\"Hello\"*n)#字串重複出現n次"
   ]
  },
  {
   "cell_type": "code",
   "execution_count": 15,
   "id": "8d7144a8-de96-42c5-bfaf-753f4446cb79",
   "metadata": {},
   "outputs": [],
   "source": [
    "#作業\n",
    "#輸入文字顯示次數 假設為n\n",
    "#輸入一個訊息 msg\n",
    "#結果 msg 出現n次\n",
    "#範例\n",
    "# n 輸入了3\n",
    "# msg 輸入了 Ken\n",
    "#輸出:KenKenKen"
   ]
  },
  {
   "cell_type": "markdown",
   "id": "3a3b2e89-f5ce-4c33-a0ca-cb1a17ccc3e3",
   "metadata": {},
   "source": [
    "## 比較運算子"
   ]
  },
  {
   "cell_type": "code",
   "execution_count": 32,
   "id": "7b4557d4-04d7-40c5-9d8c-8e0778777217",
   "metadata": {},
   "outputs": [
    {
     "name": "stdout",
     "output_type": "stream",
     "text": [
      "10 > 2 = True\n",
      "10 < 2 = False\n",
      "10 >= 2 = True\n",
      "10 <= 2 = False\n",
      "10 == 2 = False\n",
      "10 != 2 = True\n"
     ]
    }
   ],
   "source": [
    "a = 10\n",
    "b = 2\n",
    "print(a,\">\",b,\"=\",a > b)\n",
    "print(a,\"<\",b,\"=\",a < b)\n",
    "print(a,\">=\",b,\"=\",a >= b)\n",
    "print(a,\"<=\",b,\"=\",a <= b)\n",
    "print(a,\"==\",b,\"=\",a == b)#是否相等\n",
    "print(a,\"!=\",b,\"=\",a != b)#是否不相等"
   ]
  },
  {
   "cell_type": "code",
   "execution_count": 1,
   "id": "0304bfb4-4367-40f6-ab63-267ec027ceaf",
   "metadata": {},
   "outputs": [
    {
     "name": "stdin",
     "output_type": "stream",
     "text": [
      "請輸入成績 90\n"
     ]
    },
    {
     "name": "stdout",
     "output_type": "stream",
     "text": [
      "及格\n",
      "完成\n"
     ]
    }
   ],
   "source": [
    "score = int(input(\"請輸入成績\"))\n",
    "if score >= 60:\n",
    "    print(\"及格\")\n",
    "print(\"完成\") "
   ]
  },
  {
   "cell_type": "code",
   "execution_count": 3,
   "id": "f522fb5b-cec6-4c30-ace6-e8190d3bcb27",
   "metadata": {},
   "outputs": [
    {
     "name": "stdout",
     "output_type": "stream",
     "text": [
      "成年\n",
      "成年\n",
      "成年\n",
      "成年\n",
      "成年\n",
      "成年\n",
      "成年\n"
     ]
    }
   ],
   "source": [
    "age = 12\n",
    "if age >= 18:\n",
    "    print(\"成年\")\n",
    "else:\n",
    "    print(\"未成年\")"
   ]
  },
  {
   "cell_type": "code",
   "execution_count": 5,
   "id": "c6a675b2-9217-4dce-b5fb-6c49353238df",
   "metadata": {},
   "outputs": [
    {
     "name": "stdout",
     "output_type": "stream",
     "text": [
      "成年\n"
     ]
    }
   ],
   "source": [
    "#三元運算子\n",
    "age = 18\n",
    "msg = \"成年\" if age >= 18 else \"未成年\"\n",
    "print(msg)"
   ]
  },
  {
   "cell_type": "code",
   "execution_count": 8,
   "id": "c56d484a-9a7a-42f3-9911-9462d1d5de1e",
   "metadata": {},
   "outputs": [
    {
     "name": "stdout",
     "output_type": "stream",
     "text": [
      "10\n"
     ]
    }
   ],
   "source": [
    "a = 2\n",
    "b = -8\n",
    "ans = a + (b if b >= 0 else b * -1)\n",
    "print(ans)"
   ]
  },
  {
   "cell_type": "code",
   "execution_count": 15,
   "id": "bb30d751-628f-4ec7-a5f3-2b1e15c7627c",
   "metadata": {},
   "outputs": [
    {
     "name": "stdout",
     "output_type": "stream",
     "text": [
      "錯誤\n"
     ]
    }
   ],
   "source": [
    "action = 9\n",
    "if action == 1:\n",
    "    print(\"播放\")\n",
    "elif action == 2:\n",
    "    print(\"停止\")\n",
    "elif action == 3:    \n",
    "    print(\"離開\")\n",
    "else:\n",
    "    print(\"錯誤\")\n",
    "    "
   ]
  },
  {
   "cell_type": "code",
   "execution_count": null,
   "id": "941ef6d0-9bcb-4347-b3f0-2f17d9d903e2",
   "metadata": {},
   "outputs": [],
   "source": []
  }
 ],
 "metadata": {
  "kernelspec": {
   "display_name": "Python 3 (ipykernel)",
   "language": "python",
   "name": "python3"
  },
  "language_info": {
   "codemirror_mode": {
    "name": "ipython",
    "version": 3
   },
   "file_extension": ".py",
   "mimetype": "text/x-python",
   "name": "python",
   "nbconvert_exporter": "python",
   "pygments_lexer": "ipython3",
   "version": "3.11.9"
  }
 },
 "nbformat": 4,
 "nbformat_minor": 5
}
